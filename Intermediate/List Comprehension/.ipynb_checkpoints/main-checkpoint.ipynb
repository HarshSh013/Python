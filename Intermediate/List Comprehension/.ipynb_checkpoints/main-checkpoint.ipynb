{
 "cells": [
  {
   "cell_type": "code",
   "execution_count": 1,
   "metadata": {
    "collapsed": true,
    "ExecuteTime": {
     "end_time": "2023-08-03T15:47:01.804628200Z",
     "start_time": "2023-08-03T15:47:01.754762200Z"
    }
   },
   "outputs": [],
   "source": [
    "numbers=[1,2,3]\n",
    "new_numbers=[n+1 for n in numbers]\n",
    "name=\"Harsh\"\n",
    "name=\"Harsh\"\n",
    "letter_list=[letter for letter in name]\n",
    "new_list=[n*2 for n in range(1,5)]\n",
    "names=[\"Harsh\",\"Diya\",\"Rachna\",\"Arun\",\"Radha\",\"BN\"]\n",
    "names\n",
    "['Harsh', 'Diya', 'Rachna', 'Arun', 'Radha', 'BN']\n",
    "short_names=[new for new in names if len(new) < 5]\n",
    "upper_case=[name.upper() for name in names if len(name)>5]"
   ]
  },
  {
   "cell_type": "code",
   "execution_count": null,
   "outputs": [],
   "source": [],
   "metadata": {
    "collapsed": false,
    "is_executing": true
   }
  },
  {
   "cell_type": "code",
   "execution_count": null,
   "outputs": [],
   "source": [],
   "metadata": {
    "collapsed": false
   }
  }
 ],
 "metadata": {
  "kernelspec": {
   "display_name": "Python 3",
   "language": "python",
   "name": "python3"
  },
  "language_info": {
   "codemirror_mode": {
    "name": "ipython",
    "version": 2
   },
   "file_extension": ".py",
   "mimetype": "text/x-python",
   "name": "python",
   "nbconvert_exporter": "python",
   "pygments_lexer": "ipython2",
   "version": "2.7.6"
  }
 },
 "nbformat": 4,
 "nbformat_minor": 0
}
