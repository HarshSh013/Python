{
 "cells": [
  {
   "cell_type": "code",
   "execution_count": null,
   "metadata": {
    "collapsed": true
   },
   "outputs": [],
   "source": [
    "numbers=[1,2,3]\n",
    "new_numbers=[n+1 for n in numbers]\n",
    "name=\"Harsh\"\n",
    "name=\"Harsh\"\n",
    "letter_list=[letter for letter in name]\n",
    "new_list=[n*2 for n in range(1,5)]\n",
    "names=[\"Harsh\",\"Diya\",\"Rachna\",\"Arun\",\"Radha\",\"BN\"]\n",
    "names\n",
    "['Harsh', 'Diya', 'Rachna', 'Arun', 'Radha', 'BN']\n",
    "short_names=[new for new in names if len(new) < 5]\n",
    "upper_case=[name.upper() for name in names if len(name)>5]"
   ]
  },
  {
   "cell_type": "code",
   "execution_count": null,
   "outputs": [],
   "source": [
    "print(upper_case)"
   ],
   "metadata": {
    "collapsed": false
   }
  },
  {
   "cell_type": "code",
   "execution_count": null,
   "outputs": [],
   "source": [
    "numbers = [1, 1, 2, 3, 5, 8, 13, 21, 34, 55]\n",
    "# 🚨 Do Not Change the code above 👆\n",
    "\n",
    "#Write your 1 line code 👇 below:\n",
    "\n",
    "squared_numbers=[n*n for n in numbers]\n",
    "\n",
    "#Write your code 👆 above:\n",
    "\n",
    "print(squared_numbers)\n",
    "\n"
   ],
   "metadata": {
    "collapsed": false
   }
  },
  {
   "cell_type": "code",
   "execution_count": null,
   "outputs": [],
   "source": [
    "numbers = [1, 1, 2, 3, 5, 8, 13, 21, 34, 55]\n",
    "# 🚨 Do Not Change the code above\n",
    "\n",
    "#Write your 1 line code 👇 below:\n",
    "\n",
    "result=[num for num in numbers if num%2==0]\n",
    "\n",
    "#Write your code 👆 above:\n",
    "\n",
    "print(result)\n",
    "\n"
   ],
   "metadata": {
    "collapsed": false
   }
  },
  {
   "cell_type": "code",
   "execution_count": null,
   "outputs": [],
   "source": [
    "#list_comprehension=[new_item for item in list if test]"
   ],
   "metadata": {
    "collapsed": false
   }
  },
  {
   "cell_type": "code",
   "execution_count": null,
   "outputs": [],
   "source": [
    "with open(\"file1.txt\") as file1:\n",
    "    file_1=file1.readlines()\n",
    "with open (\"file2.txt\") as file2:\n",
    "    file_2=file2.readlines()\n",
    "\n",
    "result=[int(num) for num in file_1 if num in file_2]\n",
    "\n",
    "# Write your code above 👆\n",
    "\n",
    "print(result)\n",
    "\n",
    "\n"
   ],
   "metadata": {
    "collapsed": false
   }
  },
  {
   "cell_type": "code",
   "execution_count": null,
   "outputs": [],
   "source": [
    "#for (key,value) in student_dict.items:\n",
    "#       print(value)\n",
    "# new_dict=[new_key:new_value for item in list if test]\n",
    "# new_dict=[new_key:new_value for (key,value) in dict.items() if test]"
   ],
   "metadata": {
    "collapsed": false
   }
  },
  {
   "cell_type": "code",
   "execution_count": 19,
   "outputs": [],
   "source": [
    "import random\n",
    "names=[\"Harsh\",\"Diya\",\"Rachna\",\"Arun\",\"Radha\",\"BN\"]\n",
    "\n",
    "students_score = {student:random.randint(1,100) for student in names}"
   ],
   "metadata": {
    "collapsed": false,
    "ExecuteTime": {
     "end_time": "2023-08-03T17:29:05.553144900Z",
     "start_time": "2023-08-03T17:29:05.531176300Z"
    }
   }
  },
  {
   "cell_type": "code",
   "execution_count": 20,
   "outputs": [
    {
     "data": {
      "text/plain": "{'Harsh': 97, 'Diya': 41, 'Rachna': 91, 'Arun': 65, 'Radha': 25, 'BN': 75}"
     },
     "execution_count": 20,
     "metadata": {},
     "output_type": "execute_result"
    }
   ],
   "source": [
    "students_score"
   ],
   "metadata": {
    "collapsed": false,
    "ExecuteTime": {
     "end_time": "2023-08-03T17:29:06.115147600Z",
     "start_time": "2023-08-03T17:29:06.084088600Z"
    }
   }
  },
  {
   "cell_type": "code",
   "execution_count": 15,
   "outputs": [],
   "source": [
    "passed_students={student:score for (student, score) in students_score.items() if score >= 33}"
   ],
   "metadata": {
    "collapsed": false,
    "ExecuteTime": {
     "end_time": "2023-08-03T17:15:06.691630600Z",
     "start_time": "2023-08-03T17:15:06.663365800Z"
    }
   }
  },
  {
   "cell_type": "code",
   "execution_count": 16,
   "outputs": [
    {
     "data": {
      "text/plain": "{'Harsh': 45, 'Rachna': 38, 'Arun': 35, 'Radha': 94}"
     },
     "execution_count": 16,
     "metadata": {},
     "output_type": "execute_result"
    }
   ],
   "source": [
    "passed_students"
   ],
   "metadata": {
    "collapsed": false,
    "ExecuteTime": {
     "end_time": "2023-08-03T17:15:13.246378Z",
     "start_time": "2023-08-03T17:15:13.244383200Z"
    }
   }
  },
  {
   "cell_type": "code",
   "execution_count": 17,
   "outputs": [
    {
     "name": "stdout",
     "output_type": "stream",
     "text": [
      "{'What': 4, 'is': 2, 'the': 3, 'Airspeed': 8, 'Velocity': 8, 'of': 2, 'an': 2, 'Unladen': 7, 'Swallow?': 8}\n"
     ]
    }
   ],
   "source": [
    "sentence = \"What is the Airspeed Velocity of an Unladen Swallow?\"\n",
    "# Don't change code above 👆\n",
    "list=sentence.split()\n",
    "result={word:len(word) for word in sentence.split()}\n",
    "# Write your code below:\n",
    "\n",
    "\n",
    "\n",
    "print(result)\n",
    "\n"
   ],
   "metadata": {
    "collapsed": false,
    "ExecuteTime": {
     "end_time": "2023-08-03T17:21:17.637662400Z",
     "start_time": "2023-08-03T17:21:17.495531600Z"
    }
   }
  },
  {
   "cell_type": "code",
   "execution_count": 18,
   "outputs": [
    {
     "name": "stdout",
     "output_type": "stream",
     "text": [
      "{'Monday': 53.6, 'Tuesday': 57.2, 'Wednesday': 59.0, 'Thursday': 57.2, 'Friday': 69.8, 'Saturday': 71.6, 'Sunday': 75.2}\n"
     ]
    }
   ],
   "source": [
    "weather_c = {\n",
    "    \"Monday\": 12,\n",
    "    \"Tuesday\": 14,\n",
    "    \"Wednesday\": 15,\n",
    "    \"Thursday\": 14,\n",
    "    \"Friday\": 21,\n",
    "    \"Saturday\": 22,\n",
    "    \"Sunday\": 24,\n",
    "}\n",
    "# 🚨 Don't change code above 👆\n",
    "weather_f={day:(temp_c * 9/5) + 32 for (day,temp_c) in weather_c.items()}\n",
    "\n",
    "# Write your code 👇 below:\n",
    "\n",
    "\n",
    "\n",
    "print(weather_f)\n",
    "\n",
    "\n"
   ],
   "metadata": {
    "collapsed": false,
    "ExecuteTime": {
     "end_time": "2023-08-03T17:26:11.365645800Z",
     "start_time": "2023-08-03T17:26:11.290845Z"
    }
   }
  },
  {
   "cell_type": "code",
   "execution_count": 22,
   "outputs": [
    {
     "name": "stdout",
     "output_type": "stream",
     "text": [
      "  student  scores\n",
      "0   Harsh      80\n",
      "1    Diya      27\n",
      "2  Rachna      92\n",
      "3    Arun      32\n"
     ]
    }
   ],
   "source": [
    "student_dict= {\n",
    "    \"student\": [\"Harsh\",\"Diya\",\"Rachna\",\"Arun\"],\n",
    "    \"scores\" : [80,27,92,32]\n",
    "}\n",
    "\n",
    "import pandas\n",
    "\n",
    "student_data_frame=pandas.DataFrame(student_dict)\n",
    "print(student_data_frame)"
   ],
   "metadata": {
    "collapsed": false,
    "ExecuteTime": {
     "end_time": "2023-08-03T17:31:54.903822400Z",
     "start_time": "2023-08-03T17:31:49.633200500Z"
    }
   }
  },
  {
   "cell_type": "code",
   "execution_count": 26,
   "outputs": [
    {
     "name": "stdout",
     "output_type": "stream",
     "text": [
      "0     Harsh\n",
      "1      Diya\n",
      "2    Rachna\n",
      "3      Arun\n",
      "Name: student, dtype: object\n",
      "0    80\n",
      "1    27\n",
      "2    92\n",
      "3    32\n",
      "Name: scores, dtype: int64\n"
     ]
    }
   ],
   "source": [
    "for (key,value) in student_data_frame.items():\n",
    "    print(value)"
   ],
   "metadata": {
    "collapsed": false,
    "ExecuteTime": {
     "end_time": "2023-08-03T17:33:10.956494Z",
     "start_time": "2023-08-03T17:33:10.880700100Z"
    }
   }
  },
  {
   "cell_type": "code",
   "execution_count": 27,
   "outputs": [],
   "source": [
    "# for (index,row) in student_data_frame.iterrows():\n",
    "#print(row)"
   ],
   "metadata": {
    "collapsed": false,
    "ExecuteTime": {
     "end_time": "2023-08-03T17:34:52.750368300Z",
     "start_time": "2023-08-03T17:34:52.720418900Z"
    }
   }
  },
  {
   "cell_type": "code",
   "execution_count": 28,
   "outputs": [
    {
     "name": "stdout",
     "output_type": "stream",
     "text": [
      "student    Harsh\n",
      "scores        80\n",
      "Name: 0, dtype: object\n",
      "student    Diya\n",
      "scores       27\n",
      "Name: 1, dtype: object\n",
      "student    Rachna\n",
      "scores         92\n",
      "Name: 2, dtype: object\n",
      "student    Arun\n",
      "scores       32\n",
      "Name: 3, dtype: object\n"
     ]
    }
   ],
   "source": [
    "for (index,row) in student_data_frame.iterrows():\n",
    "    print(row)"
   ],
   "metadata": {
    "collapsed": false,
    "ExecuteTime": {
     "end_time": "2023-08-03T17:35:04.008121300Z",
     "start_time": "2023-08-03T17:35:03.942298300Z"
    }
   }
  },
  {
   "cell_type": "code",
   "execution_count": 30,
   "outputs": [],
   "source": [
    "student_dict = {\n",
    "    \"student\": [\"Angela\", \"James\", \"Lily\"],\n",
    "    \"score\": [56, 76, 98]\n",
    "}\n",
    "\n",
    "#Looping through dictionaries:\n",
    "for (key, value) in student_dict.items():\n",
    "    #Access key and value\n",
    "    pass\n",
    "\n",
    "import pandas\n",
    "student_data_frame = pandas.DataFrame(student_dict)\n",
    "\n",
    "#Loop through rows of a data frame\n",
    "for (index, row) in student_data_frame.iterrows():\n",
    "    #Access index and row\n",
    "    #Access row.student or row.score\n",
    "    pass\n",
    "\n",
    "\n",
    "\n"
   ],
   "metadata": {
    "collapsed": false,
    "ExecuteTime": {
     "end_time": "2023-08-03T17:37:26.883767600Z",
     "start_time": "2023-08-03T17:37:26.826670500Z"
    }
   }
  },
  {
   "cell_type": "code",
   "execution_count": null,
   "outputs": [],
   "source": [],
   "metadata": {
    "collapsed": false
   }
  }
 ],
 "metadata": {
  "kernelspec": {
   "display_name": "Python 3",
   "language": "python",
   "name": "python3"
  },
  "language_info": {
   "codemirror_mode": {
    "name": "ipython",
    "version": 2
   },
   "file_extension": ".py",
   "mimetype": "text/x-python",
   "name": "python",
   "nbconvert_exporter": "python",
   "pygments_lexer": "ipython2",
   "version": "2.7.6"
  }
 },
 "nbformat": 4,
 "nbformat_minor": 0
}
